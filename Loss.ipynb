{
 "cells": [
  {
   "cell_type": "code",
   "execution_count": 1,
   "metadata": {},
   "outputs": [],
   "source": [
    "import numpy as np\n",
    "import pickle\n",
    "import matplotlib.pyplot as plt"
   ]
  },
  {
   "cell_type": "code",
   "execution_count": 3,
   "metadata": {},
   "outputs": [],
   "source": [
    "with open(\"validation_loss_history\", \"rb\") as f:\n",
    "    validation_loss_history = pickle.load(f)\n",
    "    \n",
    "with open(\"training_loss_history\", \"rb\") as f:\n",
    "    training_loss_history = pickle.load(f)\n",
    "    \n",
    "with open(\"validation_accuracy_history\", \"rb\") as f:\n",
    "    validation_accuracy_history = pickle.load(f)\n",
    "    \n",
    "with open(\"training_accuracy_history\", \"rb\") as f:\n",
    "    training_accuracy_history = pickle.load(f)"
   ]
  },
  {
   "cell_type": "code",
   "execution_count": null,
   "metadata": {},
   "outputs": [],
   "source": [
    "EPOCHS = len(training_loss_history)\n",
    "\n",
    "loss_plot = plt.subplot(2,1,1)\n",
    "loss_plot.set_title('Loss')\n",
    "loss_plot.plot(training_loss_history, 'r', label='Training Loss')\n",
    "loss_plot.plot(validation_loss_history, 'b', label='Validation Loss')\n",
    "loss_plot.set_xlim([0, EPOCHS])\n",
    "loss_plot.legend(loc=4)\n",
    "acc_plot = plt.subplot(2,1,2)\n",
    "acc_plot.set_title('Accuracy')\n",
    "acc_plot.plot(training_accuracy_history,'r', label='Training Accuracy')\n",
    "acc_plot.plot(validation_accuracy_history, 'b', label='Validation Accuracy')\n",
    "acc_plot.set_ylim([0, 1.0])\n",
    "acc_plot.set_xlim([0, EPOCHS])\n",
    "acc_plot.legend(loc=4)\n",
    "plt.tight_layout()\n",
    "plt.show()"
   ]
  }
 ],
 "metadata": {
  "kernelspec": {
   "display_name": "Python [conda env:carnd-odlab]",
   "language": "python",
   "name": "conda-env-carnd-odlab-py"
  },
  "language_info": {
   "codemirror_mode": {
    "name": "ipython",
    "version": 3
   },
   "file_extension": ".py",
   "mimetype": "text/x-python",
   "name": "python",
   "nbconvert_exporter": "python",
   "pygments_lexer": "ipython3",
   "version": "3.6.0"
  }
 },
 "nbformat": 4,
 "nbformat_minor": 2
}
